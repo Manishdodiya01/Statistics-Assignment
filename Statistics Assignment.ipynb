{
 "cells": [
  {
   "cell_type": "markdown",
   "id": "df60daf4-74f8-4108-834e-797118cb5b2e",
   "metadata": {},
   "source": [
    "# Q1. What is Statistics?"
   ]
  },
  {
   "cell_type": "markdown",
   "id": "d5adb60b-16e9-4353-be17-f72a80f8e5d2",
   "metadata": {},
   "source": [
    "Statistics is a branch of mathematics and a scientific discipline that deals with the collection, organization, analysis, interpretation, and presentation of data. It involves the study of quantitative information, typically in the form of numerical data, to gain insights, make informed decisions, and draw conclusions about a population based on a sample.\n",
    "\n",
    "The primary objectives of statistics are:\n",
    "\n",
    "1. Data Collection: Gathering relevant data through various methods such as surveys, experiments, and observational studies.\n",
    "\n",
    "2. Data Organization: Arranging the data in a structured manner to facilitate analysis and interpretation.\n",
    "\n",
    "3. Data Analysis: Using mathematical and statistical techniques to analyze the data and uncover patterns, trends, and relationships between variables.\n",
    "\n",
    "4. Data Interpretation: Drawing meaningful inferences and conclusions from the analyzed data, taking into account the level of uncertainty and variability in the results.\n",
    "\n",
    "5. Presentation of Results: Communicating the findings effectively through graphs, charts, tables, and summary statistics to make it easier for others to understand the insights.\n",
    "\n",
    "Statistics is extensively used in various fields such as economics, sociology, psychology, business, medicine, engineering, and many more. It helps researchers, policymakers, and decision-makers to make evidence-based decisions, evaluate hypotheses, and test the validity of claims using rigorous methods."
   ]
  },
  {
   "cell_type": "markdown",
   "id": "7a0a69c9-7252-4d29-87e5-20ad779814d8",
   "metadata": {},
   "source": [
    "# Q2. Define the different types of statistics and give an example of when each type might be used."
   ]
  },
  {
   "cell_type": "markdown",
   "id": "c0ffe084-9bbf-4ce8-992f-d5e38fae2830",
   "metadata": {},
   "source": [
    "Statistics can be broadly categorized into two main types: descriptive statistics and inferential statistics. Let's define each type and provide an example of when it might be used:\n",
    "\n",
    "1. Descriptive Statistics:\n",
    "Descriptive statistics involves methods for summarizing and describing the main features of a dataset. It allows us to present data in a meaningful and concise way, making it easier to understand and interpret the information. Common measures used in descriptive statistics include measures of central tendency (e.g., mean, median, mode) and measures of variability (e.g., range, standard deviation).\n",
    "\n",
    "Example: Suppose you have data on the heights of students in a school. You can use descriptive statistics to calculate the average height (mean) of the students to get an idea of the typical height in the school. Additionally, you can find the range of heights to understand the spread or variability in the height distribution.\n",
    "\n",
    "2. Inferential Statistics:\n",
    "Inferential statistics involves making predictions or inferences about a population based on a sample. It allows us to draw conclusions beyond the data we have collected, taking into account the inherent uncertainty in the sample. Hypothesis testing and confidence intervals are common techniques used in inferential statistics.\n",
    "\n",
    "Example: Let's say a company wants to know whether a new advertising campaign has led to a significant increase in sales. They can collect sales data from a sample of customers who were exposed to the campaign and a separate sample of customers who were not exposed (control group). Inferential statistics can be used to analyze the data and determine if the observed difference in sales between the two groups is statistically significant, indicating that the advertising campaign likely had an impact on sales for the entire customer population.\n",
    "\n",
    "These two types of statistics work together to provide a comprehensive understanding of the data. Descriptive statistics summarize and describe the data, while inferential statistics help us make broader conclusions and predictions about a larger population based on the analyzed sample data."
   ]
  },
  {
   "cell_type": "markdown",
   "id": "05a0d95b-3959-4798-bd7c-7044d95e116b",
   "metadata": {},
   "source": [
    "# Q3. What are the different types of data and how do they differ from each other? Provide an example of\n",
    "each type of data."
   ]
  },
  {
   "cell_type": "markdown",
   "id": "87917eee-0f5c-47fb-8ad5-35c3ccfd96d9",
   "metadata": {},
   "source": [
    "Data can be classified into four main types based on their nature and level of measurement: nominal, ordinal, interval, and ratio. Each type of data differs in terms of the level of information it provides and the mathematical operations that can be performed on it. Let's define each type and provide an example for better understanding:\n",
    "\n",
    "1. Nominal Data:\n",
    "Nominal data consists of categories or labels with no inherent order or numerical value. It represents qualitative information where data points are simply classified into distinct groups.\n",
    "\n",
    "Example: Colors of cars in a parking lot (e.g., red, blue, green, yellow). The data points are discrete categories, and there is no inherent order or numeric value associated with the colors.\n",
    "\n",
    "2. Ordinal Data:\n",
    "Ordinal data also consists of categories, but these categories have a meaningful order or ranking. However, the differences between the categories are not necessarily uniform or quantifiable.\n",
    "\n",
    "Example: Survey responses to customer satisfaction (e.g., \"very dissatisfied,\" \"dissatisfied,\" \"neutral,\" \"satisfied,\" \"very satisfied\"). While there is a ranking from least to most satisfied, the intervals between the categories are not necessarily equal.\n",
    "\n",
    "3. Interval Data:\n",
    "Interval data represents ordered data where the intervals between values are equal, but there is no true zero point. In this type of data, arithmetic operations like addition and subtraction are meaningful, but multiplication and division are not.\n",
    "\n",
    "Example: Temperature measured in Celsius. The intervals between temperature values are equal (e.g., the difference between 20°C and 25°C is the same as between 25°C and 30°C), but 0°C does not represent an absence of temperature.\n",
    "\n",
    "4. Ratio Data:\n",
    "Ratio data is similar to interval data, but it has a true zero point, which allows for meaningful ratios and all four arithmetic operations (addition, subtraction, multiplication, division).\n",
    "\n",
    "Example: Height measured in centimeters. The ratios between values are meaningful (e.g., a person who is 180 cm is twice as tall as someone who is 90 cm), and 0 cm represents a complete absence of height.\n",
    "\n",
    "In summary, nominal data is categorical with no inherent order, ordinal data has a meaningful order, interval data has equal intervals but no true zero, and ratio data has equal intervals and a true zero point. Understanding the type of data is crucial for selecting appropriate statistical methods and drawing valid conclusions from the analysis."
   ]
  },
  {
   "cell_type": "markdown",
   "id": "d3e7c4d6-5eda-412f-9f4d-44752bc00811",
   "metadata": {},
   "source": [
    "# Q4. Categorise the following datasets with respect to quantitative and qualitative data types:\n",
    "(i) Grading in exam: A+, A, B+, B, C+, C, D, E\n",
    "(ii) Colour of mangoes: yellow, green, orange, red\n",
    "(iii) Height data of a class: [178.9, 179, 179.5, 176, 177.2, 178.3, 175.8,...]\n",
    "(iv) Number of mangoes exported by a farm: [500, 600, 478, 672, ...]"
   ]
  },
  {
   "cell_type": "markdown",
   "id": "6b32192d-b69f-4160-9cbd-71dfc9987865",
   "metadata": {},
   "source": [
    "Let's categorize the given datasets into quantitative and qualitative data types:\n",
    "\n",
    "(i) Grading in exam: A+, A, B+, B, C+, C, D, E\n",
    "- Data Type: Qualitative (Ordinal)\n",
    "Explanation: The data consists of categorical grades that have an inherent order or ranking (A+ being the highest and E being the lowest). However, the grades do not represent numerical values, and the differences between the grades are not quantifiable in a mathematical sense.\n",
    "\n",
    "(ii) Colour of mangoes: yellow, green, orange, red\n",
    "- Data Type: Qualitative (Nominal)\n",
    "Explanation: The data consists of discrete categories or labels representing the colors of mangoes. There is no inherent order or ranking among the colors, and the data is purely categorical.\n",
    "\n",
    "(iii) Height data of a class: [178.9, 179, 179.5, 176, 177.2, 178.3, 175.8, ...]\n",
    "- Data Type: Quantitative (Interval/Ratio)\n",
    "Explanation: The data represents heights measured in centimeters. While the data is continuous and ordered, it falls into the quantitative category because it has equal intervals between the values (e.g., the difference between 178.9 cm and 179 cm is the same as between 179 cm and 179.5 cm). Additionally, if the heights are measured from the ground level, it can be considered as ratio data because it has a true zero point (i.e., 0 cm represents no height).\n",
    "\n",
    "(iv) Number of mangoes exported by a farm: [500, 600, 478, 672, ...]\n",
    "- Data Type: Quantitative (Ratio)\n",
    "Explanation: The data represents the count of mangoes exported, and it falls into the quantitative category. It is ratio data because it has a true zero point (i.e., 0 mangoes exported means no mangoes were exported) and allows for meaningful ratios (e.g., 600 mangoes is twice as many as 300 mangoes).\n",
    "\n",
    "To summarize, datasets (i) and (ii) are qualitative data, with (i) being ordinal and (ii) being nominal. Datasets (iii) and (iv) are quantitative data, with (iii) being interval or ratio depending on the context, and (iv) being ratio data."
   ]
  },
  {
   "cell_type": "markdown",
   "id": "0ba6cde3-478c-42d9-9bfb-0eb9abf48e66",
   "metadata": {},
   "source": [
    "# Q5. Explain the concept of levels of measurement and give an example of a variable for each level."
   ]
  },
  {
   "cell_type": "markdown",
   "id": "9276d846-6ace-4026-9cc2-b8bdc9e0872f",
   "metadata": {},
   "source": [
    "Levels of measurement, also known as scales of measurement or data types, refer to the different ways in which data can be categorized or measured. There are four main levels of measurement: nominal, ordinal, interval, and ratio. Each level has specific properties and determines the types of statistical analyses that can be performed on the data. Let's explain each level and provide an example of a variable for each:\n",
    "\n",
    "1. Nominal Level of Measurement:\n",
    "At the nominal level, data are simply categorized into distinct groups or classes. Nominal data represent qualitative attributes with no inherent order or numeric value. Variables at this level can only be classified into different categories.\n",
    "\n",
    "Example: Eye colors of people (blue, brown, green). Here, individuals are classified into categories based on their eye color, and there is no inherent ranking or order among the colors.\n",
    "\n",
    "2. Ordinal Level of Measurement:\n",
    "Ordinal data have categories with a meaningful order or ranking, but the differences between the categories may not be uniform or quantifiable. Variables at this level allow for relative comparison between data points.\n",
    "\n",
    "Example: Educational levels (elementary, high school, college, postgraduate). The categories have a meaningful order, but the intervals between them do not represent equal differences in educational attainment.\n",
    "\n",
    "3. Interval Level of Measurement:\n",
    "Interval data have ordered categories with equal intervals between consecutive values. However, interval data lack a true zero point, meaning the absence of the attribute is not represented by the value of 0.\n",
    "\n",
    "Example: Temperature measured in Celsius. The intervals between temperature values are equal (e.g., the difference between 20°C and 25°C is the same as between 25°C and 30°C), but 0°C does not represent an absence of temperature.\n",
    "\n",
    "4. Ratio Level of Measurement:\n",
    "Ratio data is similar to interval data but has a true zero point, which indicates an absolute absence of the attribute being measured. In ratio data, all four arithmetic operations (addition, subtraction, multiplication, division) are meaningful.\n",
    "\n",
    "Example: Weight of apples in kilograms. The ratios between weights are meaningful (e.g., an apple weighing 2 kg is twice as heavy as an apple weighing 1 kg), and 0 kg represents the absence of weight (no apple).\n",
    "\n",
    "Understanding the level of measurement is crucial when selecting appropriate statistical methods, as different types of analyses are applicable to each level. For example, while we can use measures of central tendency for nominal and ordinal data, only interval and ratio data allow for meaningful calculations like calculating differences or ratios between data points."
   ]
  },
  {
   "cell_type": "markdown",
   "id": "1d6e6a40-11c2-4bee-ad39-ae7a600682ac",
   "metadata": {},
   "source": [
    "# Q6. Why is it important to understand the level of measurement when analyzing data? Provide an\n",
    "example to illustrate your answer."
   ]
  },
  {
   "cell_type": "markdown",
   "id": "db5290b9-646d-4057-855e-370e4d514d68",
   "metadata": {},
   "source": [
    "Understanding the level of measurement is crucial when analyzing data because it determines the type of statistical analyses that can be appropriately applied to the data. Different levels of measurement have distinct properties, and using inappropriate statistical methods can lead to incorrect conclusions and misinterpretations. Let's illustrate the importance of understanding the level of measurement with an example:\n",
    "\n",
    "Example:\n",
    "Suppose we have data on the colors of shirts worn by people in a fashion show, and the colors are categorized as follows:\n",
    "- Red\n",
    "- Blue\n",
    "- Green\n",
    "- Yellow\n",
    "\n",
    "The colors are represented using numbers: Red = 1, Blue = 2, Green = 3, and Yellow = 4. Now, let's consider two different scenarios where we use the same statistical analysis but with different interpretations based on the level of measurement:\n",
    "\n",
    "Scenario 1: Treating Colors as Nominal (Incorrect Approach)\n",
    "If we treat the color data as nominal and assign numerical values to each color, we might compute the mean color as (1 + 2 + 3 + 4) / 4 = 2.5. This result might be interpreted as a shade of color, but it is not a valid representation in this context because averaging colors has no practical meaning. The fact that Yellow (4) is double the value of Red (1) doesn't imply it's twice as intense or preferable. This approach misleads the interpretation and is not meaningful because the numbers were merely labels without numerical significance.\n",
    "\n",
    "Scenario 2: Treating Colors as Ordinal (Semi-Correct Approach)\n",
    "If we treat the color data as ordinal, we recognize that there is an order among the colors. We can compute the mode, which represents the most frequently occurring color, and find that the mode is Green. We can interpret this result correctly by stating that Green was the most popular color among the participants. However, the arithmetic operations, such as calculating averages or performing additions, still don't hold any significance in this context.\n",
    "\n",
    "The Correct Approach: Understanding the Nominal Nature of Color Data\n",
    "In reality, the color data is nominal, representing distinct categories with no inherent order. Therefore, the correct way to analyze this data would be to use appropriate measures for nominal data, such as calculating frequencies and proportions of each color. For instance, we could report that 40% of people wore Green, 30% wore Red, 20% wore Blue, and 10% wore Yellow.\n",
    "\n",
    "In conclusion, understanding the level of measurement is essential because it guides us in choosing appropriate statistical techniques that align with the nature of the data. Using the correct approach ensures accurate and meaningful analyses, leading to more valid conclusions and better decision-making based on the data."
   ]
  },
  {
   "cell_type": "markdown",
   "id": "9a70defe-172c-464a-9e81-0e8ce731648c",
   "metadata": {},
   "source": [
    "# Q7. How nominal data type is different from ordinal data type."
   ]
  },
  {
   "cell_type": "markdown",
   "id": "cb77b547-7603-4192-a7a3-0b0f1755c644",
   "metadata": {},
   "source": [
    "Nominal data and ordinal data are two different levels of measurement in statistics. They are distinct in terms of their characteristics and the types of analyses that can be performed on them. Here are the key differences between nominal data and ordinal data:\n",
    "\n",
    "1. Definition:\n",
    "- Nominal Data: Nominal data consist of categories or labels with no inherent order or ranking. The data points are classified into distinct groups, and the categories represent different qualitative attributes.\n",
    "- Ordinal Data: Ordinal data also consist of categories, but these categories have a meaningful order or ranking. The data points can be arranged in a specific sequence, indicating a relative comparison between the categories.\n",
    "\n",
    "2. Measurement Scale:\n",
    "- Nominal Data: Nominal data use a nominal scale of measurement, which is the lowest level of measurement. The data points are assigned labels or names, and arithmetic operations like addition, subtraction, multiplication, or division are not meaningful.\n",
    "- Ordinal Data: Ordinal data use an ordinal scale of measurement, which is higher than a nominal scale but lower than an interval or ratio scale. The data points are ordered, allowing us to understand the relative positions of the categories. However, the differences between the categories are not necessarily equal or quantifiable.\n",
    "\n",
    "3. Example:\n",
    "- Nominal Data: Colors of cars (e.g., red, blue, green) or types of fruits (e.g., apple, banana, orange) are examples of nominal data. In both cases, the categories have no inherent order, and they represent different attributes without any numerical value or ranking.\n",
    "- Ordinal Data: Educational levels (e.g., elementary, high school, college) or survey responses indicating levels of satisfaction (e.g., very dissatisfied, dissatisfied, neutral, satisfied, very satisfied) are examples of ordinal data. In both cases, the categories have a meaningful order, but the intervals between the categories are not necessarily equal or quantifiable.\n",
    "\n",
    "4. Statistical Analysis:\n",
    "- Nominal Data: For nominal data, statistical analyses typically involve calculating frequencies, proportions, and mode (most frequently occurring category). Nominal data can also be presented using bar charts or pie charts to illustrate the distribution of categories.\n",
    "- Ordinal Data: In addition to the analyses used for nominal data, ordinal data allow for some additional operations. For instance, one can compute the median (middle value) or identify the first quartile (25th percentile) and the third quartile (75th percentile) to describe the distribution. However, measures like mean or standard deviation are not appropriate for ordinal data.\n",
    "\n",
    "In summary, nominal data and ordinal data differ primarily in their level of measurement, the existence of an order among the categories, and the types of statistical analyses that can be applied to them. Nominal data have no inherent order, while ordinal data have a meaningful order that allows for relative comparison but lacks uniform intervals."
   ]
  },
  {
   "cell_type": "markdown",
   "id": "76b62f22-e253-4e55-b5cd-d976c351b3c8",
   "metadata": {},
   "source": [
    "# Q8. Which type of plot can be used to display data in terms of range?"
   ]
  },
  {
   "cell_type": "markdown",
   "id": "60ea5530-4cb4-4aa4-aa13-a6bb093202ad",
   "metadata": {},
   "source": [
    "To display data in terms of range, a \"Box Plot\" or \"Box-and-Whisker Plot\" is commonly used. Box plots provide a visual representation of the distribution and variability of a dataset, including the minimum, maximum, median (50th percentile), and quartiles (25th and 75th percentiles).\n",
    "\n",
    "The box plot consists of the following components:\n",
    "\n",
    "1. Box: The box represents the interquartile range (IQR), which is the range between the 25th and 75th percentiles. It shows the middle 50% of the data.\n",
    "\n",
    "2. Median: The median is indicated by a line inside the box, representing the 50th percentile or the middle value of the data.\n",
    "\n",
    "3. Whiskers: The whiskers extend from the edges of the box to the minimum and maximum data points within a certain range. The length of the whiskers depends on whether outliers are present and the specific method used to define them.\n",
    "\n",
    "4. Outliers: Individual data points that fall outside the whiskers are represented as dots and are considered potential outliers.\n",
    "\n",
    "Box plots are particularly useful for comparing the ranges and dispersions of different datasets and identifying potential outliers. They provide a concise summary of the data's spread and can be used to gain insights into the distribution's symmetry and skewness.\n",
    "\n",
    "Box plots can be created for both univariate and multivariate datasets, allowing for comparisons between groups or multiple variables simultaneously.\n",
    "\n",
    "In some variations, such as notched box plots or violin plots, additional information about the data's density or confidence intervals may be included to enhance the visualization."
   ]
  },
  {
   "cell_type": "markdown",
   "id": "14a3e220-6c72-47cc-9295-9acce4672fcf",
   "metadata": {},
   "source": [
    "# Q9. Describe the difference between descriptive and inferential statistics. Give an example of each\n",
    "type of statistics and explain how they are used."
   ]
  },
  {
   "cell_type": "markdown",
   "id": "e090472d-5681-4a4d-82ea-3ead8deb4a45",
   "metadata": {},
   "source": [
    "Descriptive and inferential statistics are two main branches of statistical analysis, each serving different purposes:\n",
    "\n",
    "1. Descriptive Statistics:\n",
    "Descriptive statistics involves the methods and techniques used to summarize, organize, and present data in a meaningful and concise manner. It provides a clear and simple overview of the main features of the dataset without making any inferences or generalizations beyond the data itself. Descriptive statistics are used to describe the characteristics of the sample data and do not involve drawing conclusions about a larger population.\n",
    "\n",
    "Example: Let's consider a survey conducted to collect data on the ages of a group of people. Descriptive statistics for this dataset may include measures like the mean (average) age, the median (middle value) age, and the standard deviation (a measure of data dispersion). These summary statistics help to understand the central tendency and variability of the ages in the surveyed group without making any broader claims about the entire population.\n",
    "\n",
    "2. Inferential Statistics:\n",
    "Inferential statistics, on the other hand, involves making predictions, generalizations, or inferences about a population based on a sample of data. It uses statistical techniques to draw conclusions beyond the specific data collected, taking into account the uncertainty and variability inherent in sampling processes. Inferential statistics allow researchers to make claims about a population based on the analyzed sample data.\n",
    "\n",
    "Example: Consider a pharmaceutical company conducting a clinical trial to test the effectiveness of a new drug. They recruit a sample of patients with a specific medical condition and administer the drug to them. After the trial, inferential statistics can be used to determine whether the observed improvements in the sample are likely to be applicable to the broader population of patients with the same medical condition. By conducting hypothesis tests and calculating confidence intervals, researchers can infer whether the drug has a statistically significant effect on the larger patient population.\n",
    "\n",
    "In summary, descriptive statistics are used to summarize and describe the characteristics of the sample data, providing insights into central tendencies and variations within the data. On the other hand, inferential statistics allow researchers to make predictions and draw conclusions about a population based on a sample, taking into account the inherent uncertainty in the sampling process. Both types of statistics are valuable in data analysis and research, and they work together to provide a comprehensive understanding of the data and its implications."
   ]
  },
  {
   "cell_type": "markdown",
   "id": "0b729746-d45c-41ca-b790-13d13f95cfba",
   "metadata": {},
   "source": [
    "# Q10. What are some common measures of central tendency and variability used in statistics? Explain\n",
    "how each measure can be used to describe a dataset."
   ]
  },
  {
   "cell_type": "markdown",
   "id": "09a2e742-d93b-4792-b08b-af56dc400b37",
   "metadata": {},
   "source": [
    "In statistics, measures of central tendency and variability are used to summarize and describe the distribution of data. They provide valuable insights into the central values and spread of the dataset. Here are some common measures of central tendency and variability:\n",
    "\n",
    "Measures of Central Tendency:\n",
    "\n",
    "1. Mean:\n",
    "The mean is the most common measure of central tendency. It is calculated by summing all the data points and then dividing by the total number of data points. The mean represents the average value of the dataset.\n",
    "\n",
    "How it describes a dataset: The mean provides a measure of the center or typical value of the data. It is useful when the data is relatively symmetrically distributed, and there are no extreme outliers that significantly influence the result.\n",
    "\n",
    "2. Median:\n",
    "The median is the middle value when the data is arranged in ascending or descending order. If the dataset has an even number of values, the median is the average of the two middle values.\n",
    "\n",
    "How it describes a dataset: The median is robust to extreme values or outliers, making it a useful measure when the data is skewed or has a long tail. It represents the 50th percentile, and it is often preferred over the mean in skewed distributions.\n",
    "\n",
    "3. Mode:\n",
    "The mode is the value that appears most frequently in the dataset.\n",
    "\n",
    "How it describes a dataset: The mode identifies the most common value in the data. It is useful for categorical or discrete data and can help identify any prevalent patterns or characteristics in the dataset.\n",
    "\n",
    "Measures of Variability:\n",
    "\n",
    "1. Range:\n",
    "The range is the difference between the maximum and minimum values in the dataset.\n",
    "\n",
    "How it describes a dataset: The range provides a simple measure of the spread or dispersion of the data. It gives an idea of how much the data values vary from the minimum to the maximum.\n",
    "\n",
    "2. Variance:\n",
    "Variance is a measure of the average squared deviation of each data point from the mean. It quantifies the dispersion of data points around the mean.\n",
    "\n",
    "How it describes a dataset: Variance provides a more comprehensive understanding of the variability in the dataset compared to the range. However, it is influenced by extreme values and is expressed in squared units, which can be less interpretable.\n",
    "\n",
    "3. Standard Deviation:\n",
    "The standard deviation is the square root of the variance. It represents the average deviation of data points from the mean.\n",
    "\n",
    "How it describes a dataset: The standard deviation is widely used due to its interpretability (in the same units as the data) and its effectiveness in describing the spread of the data. It is the most commonly used measure of variability.\n",
    "\n",
    "By using these measures of central tendency and variability together, statisticians can gain a more comprehensive understanding of the dataset's overall shape, distribution, and dispersion. They provide valuable information for making comparisons, identifying patterns, and drawing meaningful insights from the data."
   ]
  },
  {
   "cell_type": "code",
   "execution_count": null,
   "id": "a3734f58-caa8-4cc2-9f78-4d16a6b23396",
   "metadata": {},
   "outputs": [],
   "source": []
  }
 ],
 "metadata": {
  "kernelspec": {
   "display_name": "Python 3 (ipykernel)",
   "language": "python",
   "name": "python3"
  },
  "language_info": {
   "codemirror_mode": {
    "name": "ipython",
    "version": 3
   },
   "file_extension": ".py",
   "mimetype": "text/x-python",
   "name": "python",
   "nbconvert_exporter": "python",
   "pygments_lexer": "ipython3",
   "version": "3.10.8"
  }
 },
 "nbformat": 4,
 "nbformat_minor": 5
}
